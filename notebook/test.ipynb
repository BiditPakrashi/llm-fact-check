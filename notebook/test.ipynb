{
 "cells": [
  {
   "cell_type": "code",
   "execution_count": 1,
   "metadata": {},
   "outputs": [],
   "source": [
    "from langchain.llms import OpenAI\n",
    "from langchain.chains import LLMChain\n",
    "from langchain.prompts import PromptTemplate\n",
    "from langchain.chains import SimpleSequentialChain"
   ]
  },
  {
   "cell_type": "code",
   "execution_count": null,
   "metadata": {},
   "outputs": [],
   "source": [
    "q = \"Hi Team VREX 1004 Error is spiking at Sev-3 Range (three last 5 min interval > 499 but <2999). REPS on-call will reach out soon Spike In Vrex 1004Count [346.0, 13380.0, 3054.0] Incident Number INC005120041 Incident URL\"\n",
    "#q = 'is it true Albert Einstein said, \"The only thing more dangerous than ignorance is arrogance.\"'\n",
    "llm = OpenAI(temperature=0.7)\n",
    "template = \"\"\" Summarize as incident {question}\\n\\n\"\"\"\n",
    "prompt_template = PromptTemplate(input_variables=[\"question\"], template=template)\n",
    "incident_chain = LLMChain(llm=llm, prompt=prompt_template)\n",
    "\n",
    "\n",
    "template = \"\"\"Here is a statement:\n",
    "{statement}\n",
    "Make a bullet point list of the Action iteams  to find  which team to notify \\n\\n\"\"\"\n",
    "prompt_template = PromptTemplate(input_variables=[\"statement\"], template=template)\n",
    "actions_chain = LLMChain(llm=llm, prompt=prompt_template)\n",
    "\n",
    "template = \"\"\"Here is a bullet point list of assertions:\n",
    "{assertions}\n",
    "For each assertion, determine whether any action can be taken . If it is no, explain why.\\n\\n\"\"\"\n",
    "prompt_template = PromptTemplate(input_variables=[\"assertions\"], template=template)\n",
    "actions_taken = LLMChain(llm=llm, prompt=prompt_template)\n",
    "\n",
    "overall_chain = SimpleSequentialChain(chains=[incident_chain, actions_chain,actions_taken], verbose=True)"
   ]
  }
 ],
 "metadata": {
  "kernelspec": {
   "display_name": "factcheck",
   "language": "python",
   "name": "python3"
  },
  "language_info": {
   "codemirror_mode": {
    "name": "ipython",
    "version": 3
   },
   "file_extension": ".py",
   "mimetype": "text/x-python",
   "name": "python",
   "nbconvert_exporter": "python",
   "pygments_lexer": "ipython3",
   "version": "3.11.3"
  },
  "orig_nbformat": 4
 },
 "nbformat": 4,
 "nbformat_minor": 2
}
